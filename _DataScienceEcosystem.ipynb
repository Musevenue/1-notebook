{
 "cells": [
  {
   "cell_type": "markdown",
   "id": "0b18868a-12eb-47bb-b693-83dee3f9ec89",
   "metadata": {},
   "source": [
    "# Data Science Tools and Ecosystem"
   ]
  },
  {
   "cell_type": "markdown",
   "id": "898ce0f0-c5b9-4239-be4b-6edaad46e63d",
   "metadata": {},
   "source": [
    "In this notebook, Data Science Tools and Ecosystem are summarized.\n"
   ]
  },
  {
   "cell_type": "markdown",
   "id": "52d04cb6-49a3-4add-9a4e-ae72394c3eae",
   "metadata": {},
   "source": [
    "Some of the popular languages that Data Scientists use are:\n",
    "* python \n",
    "* R\n",
    "* java\n",
    "* SQL\n"
   ]
  },
  {
   "cell_type": "markdown",
   "id": "42adfd50-1a45-4f53-9284-4076bd8fdc1c",
   "metadata": {},
   "source": [
    "Some of the commonly used libraries used by Data Scientists include:\n",
    "1. Pandas \n",
    "2. Plotly\n",
    "3. NumPy \n",
    "4. SciPy "
   ]
  },
  {
   "cell_type": "markdown",
   "id": "da33098c-8a47-42d1-b4ba-7a5c86a34d7b",
   "metadata": {},
   "source": [
    "|Data Science Tools|\n",
    "|---|\n",
    "|Apache Superset|\n",
    "|Metabase|\n",
    "|PyPandas|"
   ]
  },
  {
   "cell_type": "markdown",
   "id": "e932db76-0981-4162-b994-0d2277f2d98b",
   "metadata": {},
   "source": [
    "### Below are a few examples of evaluating arithmetic expressions in Python"
   ]
  },
  {
   "cell_type": "code",
   "execution_count": 97,
   "id": "9f213cb8-10c0-4fa8-87c7-e489745b7f7e",
   "metadata": {},
   "outputs": [
    {
     "data": {
      "text/plain": [
       "17"
      ]
     },
     "execution_count": 97,
     "metadata": {},
     "output_type": "execute_result"
    }
   ],
   "source": [
    "# This a simple arithmetic expression to mutiply then add integers\n",
    "(3*4)+5"
   ]
  },
  {
   "cell_type": "code",
   "execution_count": 104,
   "id": "1110c737-b36c-4eae-b6b9-c62d7bb8a47c",
   "metadata": {},
   "outputs": [
    {
     "data": {
      "text/plain": [
       "3.3333333333333335"
      ]
     },
     "execution_count": 104,
     "metadata": {},
     "output_type": "execute_result"
    }
   ],
   "source": [
    "# This will convert 200 minutes to hours by diving by 60.\n",
    "200/60"
   ]
  },
  {
   "cell_type": "markdown",
   "id": "622ad8ed-413c-4321-9dda-76b5d5541c01",
   "metadata": {},
   "source": [
    "### **Objectives**\n",
    "- list data science libraries\n",
    "- Create a code cell to multiply and add numbers\n",
    "- List popular languages for Data Science.\n",
    "- Create markdown cell with title of the notebook\n",
    "- Create a markdown cell with a table of Data Science tools\n"
   ]
  },
  {
   "cell_type": "markdown",
   "id": "481b2626-7e86-4b75-a4b8-92c3fea13065",
   "metadata": {},
   "source": [
    "## Author\n",
    "Necmettin Berk Yetisken"
   ]
  },
  {
   "cell_type": "code",
   "execution_count": null,
   "id": "2df55391-ec25-46a2-9045-531a6fde6bb2",
   "metadata": {},
   "outputs": [],
   "source": []
  }
 ],
 "metadata": {
  "kernelspec": {
   "display_name": "Python [conda env:base] *",
   "language": "python",
   "name": "conda-base-py"
  },
  "language_info": {
   "codemirror_mode": {
    "name": "ipython",
    "version": 3
   },
   "file_extension": ".py",
   "mimetype": "text/x-python",
   "name": "python",
   "nbconvert_exporter": "python",
   "pygments_lexer": "ipython3",
   "version": "3.12.7"
  }
 },
 "nbformat": 4,
 "nbformat_minor": 5
}
